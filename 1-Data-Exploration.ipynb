{
 "cells": [
  {
   "cell_type": "code",
   "execution_count": null,
   "id": "ab68a582-8c89-401c-afa6-e858419ffcde",
   "metadata": {},
   "outputs": [],
   "source": [
    "!pip install ta\n",
    "!pip install yahoo-finance\n",
    "!pip install pandas\n",
    "!pip install numpy\n",
    "!pip install seaborn"
   ]
  },
  {
   "cell_type": "code",
   "execution_count": null,
   "id": "8874625d-2c01-476b-8ef2-242ae6258dc2",
   "metadata": {},
   "outputs": [],
   "source": [
    "import pandas as pd\n",
    "import numpy as np\n",
    "import matplotlib.pyplot as plt\n",
    "import seaborn as sns"
   ]
  },
  {
   "cell_type": "code",
   "execution_count": null,
   "id": "9fa82204-d4ac-45f6-92e6-3cbcca7ded72",
   "metadata": {},
   "outputs": [],
   "source": [
    "# Read Dataset\n",
    "df = pd.read_excel('C:/Users/yunus/Downloads/Data Deneme/Dataset.xlsx')"
   ]
  },
  {
   "cell_type": "code",
   "execution_count": null,
   "id": "ef100005-e351-44f0-bc4c-e48e6154b813",
   "metadata": {},
   "outputs": [],
   "source": [
    "# Check Data columns\n",
    "print(df.head())"
   ]
  },
  {
   "cell_type": "code",
   "execution_count": null,
   "id": "170527df-a19e-4f44-9387-c4973af27420",
   "metadata": {},
   "outputs": [],
   "source": [
    "# Dimensions of the dataset\n",
    "print(df.shape)  "
   ]
  },
  {
   "cell_type": "code",
   "execution_count": null,
   "id": "630102f1-009f-4406-ab1a-03d03dc3523d",
   "metadata": {},
   "outputs": [],
   "source": [
    "# Display basic information about the dataset\n",
    "print(df.info())"
   ]
  },
  {
   "cell_type": "code",
   "execution_count": null,
   "id": "48af0476-2740-49af-a442-c1ebc1f403d4",
   "metadata": {},
   "outputs": [],
   "source": [
    "# Mining Hash Rate type is object, it should be float64\n",
    "df['Mining Hash Rate'].unique()\n",
    "df['Mining Hash Rate'].isna().sum()\n",
    "df['Mining Hash Rate'] = pd.to_numeric(df['Mining Hash Rate'], errors='coerce')\n",
    "df['Mining Hash Rate'].dtype"
   ]
  },
  {
   "cell_type": "code",
   "execution_count": null,
   "id": "f7d4c23a-c864-441c-9e7f-149ab774ed73",
   "metadata": {},
   "outputs": [],
   "source": [
    "# Check for duplicates\n",
    "print(df.duplicated().sum())"
   ]
  },
  {
   "cell_type": "code",
   "execution_count": null,
   "id": "71663285-e65f-435d-bcce-ea426e94ed60",
   "metadata": {},
   "outputs": [],
   "source": [
    "# Check for constant columns\n",
    "constant_columns = [col for col in df.columns if df[col].std() == 0]\n",
    "print(f'Constant columns: {constant_columns}')\n",
    "\n",
    "# Drop constant columns if any\n",
    "# df = df.drop(columns=constant_columns)"
   ]
  },
  {
   "cell_type": "code",
   "execution_count": null,
   "id": "12291d3c-7068-4924-95e1-76e622274339",
   "metadata": {},
   "outputs": [],
   "source": [
    "# Converting Date column to index\n",
    "df['DateTime'] = df.index\n",
    "df.set_index(\"DateTime\", inplace=True)\n"
   ]
  },
  {
   "cell_type": "code",
   "execution_count": null,
   "id": "188ee35c-863b-4d73-9425-11ffea5bcf11",
   "metadata": {},
   "outputs": [],
   "source": [
    "# Check again after indexing date\n",
    "print(df.info())"
   ]
  },
  {
   "cell_type": "code",
   "execution_count": null,
   "id": "a95abe94-15a1-4dee-865c-2b9c4614fa53",
   "metadata": {},
   "outputs": [],
   "source": [
    "# Summary statistics\n",
    "summary_stats = df.describe()\n",
    "summary_stats"
   ]
  },
  {
   "cell_type": "code",
   "execution_count": null,
   "id": "992841c8-10e5-4970-b0b1-3c9d9f56e338",
   "metadata": {},
   "outputs": [],
   "source": [
    "# Check for missing values\n",
    "missing_values = df.isnull().sum()\n",
    "missing_values"
   ]
  },
  {
   "cell_type": "code",
   "execution_count": null,
   "id": "61542db6-4342-41cf-b22f-05a0ffdc2b72",
   "metadata": {},
   "outputs": [],
   "source": [
    "total_missing = df.isna().sum().sum()\n",
    "total_missing"
   ]
  },
  {
   "cell_type": "code",
   "execution_count": null,
   "id": "7aae0a5b-12b1-4a71-a447-df32d36dbf78",
   "metadata": {},
   "outputs": [],
   "source": [
    "# Visualize missing values with an expanded heatmap\n",
    "plt.figure(figsize=(40, 20))  # Increase figure size to accommodate more columns\n",
    "sns.heatmap(df.isnull(), cbar=False, cmap='viridis')\n",
    "plt.title('Missing Values Heatmap')\n",
    "plt.xticks(rotation=90)  # Rotate column labels for better visibility\n",
    "plt.show()"
   ]
  },
  {
   "cell_type": "code",
   "execution_count": null,
   "id": "79ff1bea-6781-49eb-9832-d9df27317875",
   "metadata": {},
   "outputs": [],
   "source": [
    "# Handling Missing Values\n",
    "# Forward fill missing values for all columns\n",
    "df = df.ffill()\n",
    "# there are still missing values after forward filling, backward filling fills them with the next valid observation\n",
    "df = df.bfill()"
   ]
  },
  {
   "cell_type": "code",
   "execution_count": null,
   "id": "e2eb148b-107c-4214-8d31-9a1aa0b3f97b",
   "metadata": {},
   "outputs": [],
   "source": [
    "# Visualize missing values with an expanded heatmap\n",
    "plt.figure(figsize=(40, 20))  # Increase figure size to accommodate more columns\n",
    "sns.heatmap(df.isnull(), cbar=False, cmap='viridis')\n",
    "plt.title('Missing Values Heatmap')\n",
    "plt.xticks(rotation=90)  # Rotate column labels for better visibility\n",
    "plt.show()"
   ]
  },
  {
   "cell_type": "code",
   "execution_count": null,
   "id": "260cda55-d3b4-4841-ac5f-be2c614706d6",
   "metadata": {},
   "outputs": [],
   "source": [
    "# Histograms\n",
    "df.hist(figsize=(30, 25), bins=30, edgecolor='black')\n",
    "plt.suptitle('Histograms of Numerical Variables')\n",
    "plt.tight_layout(rect=[0, 0, 1, 0.96])\n",
    "plt.show()"
   ]
  },
  {
   "cell_type": "code",
   "execution_count": null,
   "id": "eb0b14a1-84cb-4725-af6b-ee494d66b757",
   "metadata": {},
   "outputs": [],
   "source": [
    "# Kernel density estimate (KDE) plots for each numerical variable\n",
    "for column in df.select_dtypes(include=['float64', 'int64']).columns:\n",
    "    sns.kdeplot(df[column], fill=True)\n",
    "    plt.title(f'Distribution of {column}')\n",
    "    plt.show()"
   ]
  },
  {
   "cell_type": "code",
   "execution_count": null,
   "id": "c39378ab-4bd8-42eb-bd28-ddfc5b378282",
   "metadata": {},
   "outputs": [],
   "source": [
    "# Calculate skewness and kurtosis for each feature\n",
    "from scipy.stats import gaussian_kde, skew, kurtosis\n",
    "\n",
    "# Select only numerical columns\n",
    "# numerical_df = df.select_dtypes(include=['float64', 'int64']) # if there is any non-numerical variable in data\n",
    "\n",
    "skewness = df.apply(lambda x: skew(x.dropna()))\n",
    "kurt = df.apply(lambda x: kurtosis(x.dropna()))\n",
    "\n",
    "# Plot Skewness\n",
    "plt.figure(figsize=(70, 20))\n",
    "plt.subplot(2, 1, 1)\n",
    "skewness.plot(kind='bar', color='skyblue')\n",
    "plt.title('Skewness')\n",
    "plt.xlabel('Features')\n",
    "plt.ylabel('Skewness')\n",
    "plt.xticks(rotation=90)\n",
    "\n",
    "# Plot Kurtosis\n",
    "plt.subplot(2, 1, 2)\n",
    "kurt.plot(kind='bar', color='lightcoral')\n",
    "plt.title('Kurtosis')\n",
    "plt.xlabel('Features')\n",
    "plt.ylabel('Kurtosis')\n",
    "plt.xticks(rotation=90)\n",
    "\n",
    "plt.tight_layout(rect=[0, 0, 1, 0.95])\n",
    "plt.show()"
   ]
  },
  {
   "cell_type": "code",
   "execution_count": null,
   "id": "f516ce49-3b2e-4da9-a8d6-c169c086fd3d",
   "metadata": {},
   "outputs": [],
   "source": [
    "# Identify potential outliers in numerical features\n",
    "# Plot boxplots for numerical features\n",
    "plt.figure(figsize=(50, 50))\n",
    "for i, column in enumerate(df.select_dtypes(include=['float64', 'int64']).columns, 1):\n",
    "    plt.subplot(15, 15, i)  # Adjust the number of rows and columns based on data\n",
    "    sns.boxplot(df[column])\n",
    "    plt.title(column)\n",
    "plt.tight_layout()\n",
    "plt.show()"
   ]
  },
  {
   "cell_type": "code",
   "execution_count": null,
   "id": "a7c21d53-417b-4c02-8fd7-e4c7af34d4d4",
   "metadata": {},
   "outputs": [],
   "source": [
    "# Scatter Plots for Bivariate analysis\n",
    "target_variable = 'BTC_Adj Close'\n",
    "\n",
    "# Get all other variables except the target\n",
    "other_variables = [col for col in df.columns if col != target_variable]\n",
    "\n",
    "# Create scatter plots for the target variable against each other variable\n",
    "for variable in other_variables:\n",
    "    plt.figure(figsize=(8, 6))\n",
    "    sns.scatterplot(x=df[variable], y=df[target_variable])\n",
    "    plt.title(f'Scatter Plot of {variable} vs {target_variable}')\n",
    "    plt.xlabel(variable)\n",
    "    plt.ylabel(target_variable)\n",
    "    plt.show()"
   ]
  },
  {
   "cell_type": "code",
   "execution_count": null,
   "id": "798085ff-6a2f-42f2-a59f-c3cdbb428406",
   "metadata": {},
   "outputs": [],
   "source": [
    "# Correlation matrix\n",
    "correlation_matrix = df.corr()"
   ]
  },
  {
   "cell_type": "code",
   "execution_count": null,
   "id": "1092c6c3-aca5-407e-91ee-f5cef47318be",
   "metadata": {},
   "outputs": [],
   "source": [
    "# Visualize the correlation matrix\n",
    "plt.figure(figsize=(40, 40))  # Adjust the figure size\n",
    "sns.heatmap(correlation_matrix, annot=False, cmap='coolwarm', cbar=True)\n",
    "plt.title('Correlation Matrix')\n",
    "plt.xticks(rotation=90)  # Rotate labels for better visibility\n",
    "plt.yticks(rotation=0)  # Keep y-axis labels horizontal\n",
    "plt.show()"
   ]
  },
  {
   "cell_type": "code",
   "execution_count": null,
   "id": "d5be9157-df0f-4e84-a303-3b11f72cb7f0",
   "metadata": {},
   "outputs": [],
   "source": [
    "# Heatmap for Correlation with Target Variable\n",
    "# Extract the correlation values of the target variable 'Adj Close'\n",
    "target_correlation = correlation_matrix['BTC_Adj Close'].sort_values(ascending=False)\n",
    "\n",
    "# Reorder the correlation matrix based on the target variable correlation\n",
    "reordered_corr_matrix = df[target_correlation.index].corr()\n",
    "\n",
    "# Mask to show only the lower triangle\n",
    "mask = np.triu(np.ones_like(reordered_corr_matrix, dtype=bool))\n",
    "\n",
    "# Plot the heatmap with improved aesthetics and without annotation\n",
    "plt.figure(figsize=(40, 40))\n",
    "sns.heatmap(\n",
    "    reordered_corr_matrix,\n",
    "    annot=False,  # Remove the numbers\n",
    "    cmap='coolwarm',\n",
    "    fmt=\".2f\",\n",
    "    linewidths=0.5,\n",
    "    linecolor='black',\n",
    "    cbar_kws={'shrink': 0.8},\n",
    "    square=True,\n",
    "    mask=mask  # Apply the mask to hide the upper triangle\n",
    ")\n",
    "\n",
    "plt.title('Correlation Heatmap with Target Variable: BTC_Adj Close', fontsize=16, pad=20)\n",
    "plt.xticks(rotation=45, ha='right', fontsize=10)\n",
    "plt.yticks(fontsize=10)\n",
    "plt.show()\n",
    "\n"
   ]
  },
  {
   "cell_type": "code",
   "execution_count": null,
   "id": "acadccae-c282-4e29-826e-5faa7a66b480",
   "metadata": {},
   "outputs": [],
   "source": [
    "# Stationarity Checks\n",
    "# Unit Root Test\n",
    "# Function to perform the Augmented Dickey-Fuller test\n",
    "from statsmodels.tsa.stattools import adfuller\n",
    "\n",
    "\n",
    "def adf_test(series, name):\n",
    "    result = adfuller(series.dropna())\n",
    "    labels = ['ADF Test Statistic', 'p-value', '# Lags Used', '# Observations Used']\n",
    "    out = pd.Series(result[0:4], index=labels)\n",
    "    \n",
    "    for key, value in result[4].items():\n",
    "        out['Critical Value (%s)' % key] = value\n",
    "    \n",
    "    print(f'Results of Augmented Dickey-Fuller Test for {name}:')\n",
    "    print(out)\n",
    "    print('Stationary' if result[1] <= 0.05 else 'Non-Stationary')\n",
    "    print('---' * 20)\n",
    "\n",
    "# List of columns to check for stationarity (including the target variable)\n",
    "columns_to_check = ['BTC_Adj Close', 'ETH_Close', 'BTC_Close_lag1', 'BTC_Close_lag2', 'BTC_Close_lag3', \n",
    "                    'BTC_Close_lag4', 'BTC_Close_lag5', 'BTC_Close_lag10', 'BTC_Close_lag20', \n",
    "                    'BTC_Close_lag30', 'BTC_MA5', 'BTC_MA7', 'BTC_MA10', 'BTC_MA14', 'BTC_MA20', \n",
    "                    'BTC_MA30', 'BTC_MA50', 'BTC_MA100', 'BTC_MA200', \"Petroleum Markets EMV Tracker\"]\n",
    "\n",
    "# Perform the ADF test on each of the selected columns\n",
    "for column in columns_to_check:\n",
    "    adf_test(df[column], column)"
   ]
  },
  {
   "cell_type": "code",
   "execution_count": null,
   "id": "dd431113-8621-443e-9756-1e900a323b39",
   "metadata": {},
   "outputs": [],
   "source": [
    "# Stationarity Test\n",
    "# Function to perform the KPSS test\n",
    "from statsmodels.tsa.stattools import kpss\n",
    "\n",
    "def kpss_test(series, name):\n",
    "    result = kpss(series.dropna(), regression='c')\n",
    "    labels = ['KPSS Test Statistic', 'p-value', '# Lags Used']\n",
    "    out = pd.Series(result[0:3], index=labels)\n",
    "    \n",
    "    for key, value in result[3].items():\n",
    "        out['Critical Value (%s)' % key] = value\n",
    "    \n",
    "    print(f'Results of KPSS Test for {name}:')\n",
    "    print(out)\n",
    "    print('Non-Stationary' if result[1] <= 0.05 else 'Stationary')\n",
    "    print('---' * 20)\n",
    "\n",
    "# List of columns to check for stationarity (including the target variable)\n",
    "columns_to_check = ['BTC_Adj Close', 'ETH_Close', 'BTC_Close_lag1', 'BTC_Close_lag2', 'BTC_Close_lag3', \n",
    "                    'BTC_Close_lag4', 'BTC_Close_lag5', 'BTC_Close_lag10', 'BTC_Close_lag20', \n",
    "                    'BTC_Close_lag30', 'BTC_MA5', 'BTC_MA7', 'BTC_MA10', 'BTC_MA14', 'BTC_MA20', \n",
    "                    'BTC_MA30', 'BTC_MA50', 'BTC_MA100', 'BTC_MA200', \"Petroleum Markets EMV Tracker\"]\n",
    "\n",
    "# Perform the KPSS test on each of the selected columns\n",
    "for column in columns_to_check:\n",
    "    kpss_test(df[column], column)"
   ]
  },
  {
   "cell_type": "code",
   "execution_count": null,
   "id": "194f9988-2d30-4749-8cb2-56a9a7857b4e",
   "metadata": {},
   "outputs": [],
   "source": [
    "# Stationarity Visualization\n",
    "from statsmodels.tsa.seasonal import seasonal_decompose\n",
    "\n",
    "# Decompose the series\n",
    "decomposition = seasonal_decompose(df['BTC_Adj Close'].dropna(), model='additive', period=40) # adjust the period based on data's seasonality\n",
    "\n",
    "# Extract the components\n",
    "trend = decomposition.trend\n",
    "seasonal = decomposition.seasonal\n",
    "residual = decomposition.resid\n",
    "\n",
    "# Plot the decomposed components\n",
    "plt.figure(figsize=(12, 8))\n",
    "\n",
    "plt.subplot(411)\n",
    "plt.plot(df['BTC_Adj Close'], label='Original Series')\n",
    "plt.legend(loc='upper left')\n",
    "plt.title('Original Series')\n",
    "\n",
    "plt.subplot(412)\n",
    "plt.plot(trend, label='Trend', color='orange')\n",
    "plt.legend(loc='upper left')\n",
    "plt.title('Trend Component')\n",
    "\n",
    "plt.subplot(413)\n",
    "plt.plot(seasonal, label='Seasonal', color='green')\n",
    "plt.legend(loc='upper left')\n",
    "plt.title('Seasonal Component')\n",
    "\n",
    "plt.subplot(414)\n",
    "plt.plot(residual, label='Residual', color='red')\n",
    "plt.legend(loc='upper left')\n",
    "plt.title('Residual Component')\n",
    "\n",
    "plt.tight_layout()\n",
    "plt.show()"
   ]
  },
  {
   "cell_type": "code",
   "execution_count": null,
   "id": "70defd74-b174-4f42-bd7a-a67575458c1c",
   "metadata": {},
   "outputs": [],
   "source": [
    "# Autocorrelation plots\n",
    "from statsmodels.graphics.tsaplots import plot_acf, plot_pacf\n",
    "\n",
    "# df is our DataFrame and 'Adj Close' is our time series column\n",
    "time_series = df['BTC_Adj Close'].dropna()\n",
    "\n",
    "# Plot Autocorrelation\n",
    "plt.figure(figsize=(14, 7))\n",
    "plot_acf(time_series, lags=40, ax=plt.gca())  # Adjust the 'lags' parameter as needed\n",
    "plt.title('Autocorrelation Plot')\n",
    "plt.show()\n",
    "\n",
    "# Plot Partial Autocorrelation\n",
    "plt.figure(figsize=(14, 7))\n",
    "plot_pacf(time_series, lags=40, ax=plt.gca())  # Adjust the 'lags' parameter as needed\n",
    "plt.title('Partial Autocorrelation Plot')\n",
    "plt.show()\n",
    "\n"
   ]
  },
  {
   "cell_type": "code",
   "execution_count": null,
   "id": "ae932318-9665-405c-85da-594a7cfde28b",
   "metadata": {},
   "outputs": [],
   "source": [
    "# Cointegration Test\n",
    "from statsmodels.tsa.vector_ar.vecm import coint_johansen\n",
    "\n",
    "# Johansen test has limits, 12 variables\n",
    "# Selected 12 variables according to correlation matrix\n",
    "selected_columns = [\"BTC_Adj Close\", \"OBV\", \"TR\", \"Volatility\",\n",
    "                    \"MSCI_World_Index\", \"Gold\", \"Federal Funds Effective Rate\", \"US_Dollar_Index\", \"S&P_500\", \n",
    "                    \"Discussion about pandemics, Index-Total count of mentions of epidemics (normalized by total number of words)\", \n",
    "                    \"Petroleum Markets EMV Tracker\", \"Financial Regulation EMV Tracker\"] \n",
    "subset_df = df[selected_columns].dropna()  # Drop rows with NaN values\n",
    "\n",
    "# Perform the Johansen test (assuming df contains multiple time series)\n",
    "johansen_test = coint_johansen(subset_df, det_order=0, k_ar_diff=1)\n",
    "\n",
    "# Extract the test statistics and critical values\n",
    "trace_stat = johansen_test.lr1\n",
    "max_eigen_stat = johansen_test.lr2\n",
    "critical_values = johansen_test.cvt\n",
    "\n",
    "print(f'Trace Statistics: {trace_stat}')\n",
    "print(f'Max-Eigen Statistics: {max_eigen_stat}')\n",
    "print(f'Critical Values (90%, 95%, 99%): \\n{critical_values}')\n",
    "\n",
    "# Check for cointegration based on the Trace statistic and critical values\n",
    "print(\"\\nCointegration Check based on Trace Statistic:\")\n",
    "for i in range(len(trace_stat)):\n",
    "    if trace_stat[i] > critical_values[i, 1]:  # 95% level\n",
    "        print(f\"Series are cointegrated at rank {i+1}\")\n",
    "    else:\n",
    "        print(f\"No cointegration at rank {i+1}\")\n",
    "        break\n",
    "\n",
    "# Check for cointegration based on the Max-Eigen statistic and critical values\n",
    "print(\"\\nCointegration Check based on Max-Eigen Statistic:\")\n",
    "for i in range(len(max_eigen_stat)):\n",
    "    if max_eigen_stat[i] > critical_values[i, 1]:  # 95% level\n",
    "        print(f\"Series are cointegrated at rank {i+1}\")\n",
    "    else:\n",
    "        print(f\"No cointegration at rank {i+1}\")\n",
    "        break\n"
   ]
  },
  {
   "cell_type": "code",
   "execution_count": null,
   "id": "e13815f5-338a-4c81-ac96-7ab298adaea9",
   "metadata": {},
   "outputs": [],
   "source": [
    "# Save the DataFrame to an Excel file\n",
    "df.to_excel('Custom-Dataset.xlsx', index=True)"
   ]
  },
  {
   "cell_type": "code",
   "execution_count": null,
   "id": "bdadd210-82cf-47e4-8d0b-8a78da94ce7c",
   "metadata": {},
   "outputs": [],
   "source": []
  }
 ],
 "metadata": {
  "kernelspec": {
   "display_name": "Python 3 (ipykernel)",
   "language": "python",
   "name": "python3"
  },
  "language_info": {
   "codemirror_mode": {
    "name": "ipython",
    "version": 3
   },
   "file_extension": ".py",
   "mimetype": "text/x-python",
   "name": "python",
   "nbconvert_exporter": "python",
   "pygments_lexer": "ipython3",
   "version": "3.12.4"
  }
 },
 "nbformat": 4,
 "nbformat_minor": 5
}
