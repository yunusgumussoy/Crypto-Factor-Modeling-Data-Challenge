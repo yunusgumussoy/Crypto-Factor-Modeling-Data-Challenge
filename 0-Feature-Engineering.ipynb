{
 "cells": [
  {
   "cell_type": "code",
   "execution_count": 102,
   "id": "5566d8bd-57a0-4820-b511-60eee9413e55",
   "metadata": {},
   "outputs": [
    {
     "name": "stdout",
     "output_type": "stream",
     "text": [
      "Requirement already satisfied: ta in c:\\users\\yunus\\anaconda3\\lib\\site-packages (0.11.0)\n",
      "Requirement already satisfied: numpy in c:\\users\\yunus\\anaconda3\\lib\\site-packages (from ta) (1.26.4)\n",
      "Requirement already satisfied: pandas in c:\\users\\yunus\\anaconda3\\lib\\site-packages (from ta) (2.2.2)\n",
      "Requirement already satisfied: python-dateutil>=2.8.2 in c:\\users\\yunus\\anaconda3\\lib\\site-packages (from pandas->ta) (2.9.0.post0)\n",
      "Requirement already satisfied: pytz>=2020.1 in c:\\users\\yunus\\anaconda3\\lib\\site-packages (from pandas->ta) (2024.1)\n",
      "Requirement already satisfied: tzdata>=2022.7 in c:\\users\\yunus\\anaconda3\\lib\\site-packages (from pandas->ta) (2023.3)\n",
      "Requirement already satisfied: six>=1.5 in c:\\users\\yunus\\anaconda3\\lib\\site-packages (from python-dateutil>=2.8.2->pandas->ta) (1.16.0)\n"
     ]
    }
   ],
   "source": [
    "!pip install ta\n",
    "!pip install yahoo-finance\n",
    "!pip install pandas\n",
    "!pip install numpy"
   ]
  },
  {
   "cell_type": "code",
   "execution_count": 6,
   "id": "9f4321ed-722f-4d62-bf2b-0cf6d090fa6a",
   "metadata": {},
   "outputs": [],
   "source": [
    "# Step 1: Required Libraries\n",
    "import yfinance as yf\n",
    "import pandas as pd\n",
    "import datetime\n",
    "import numpy as np\n",
    "import ta"
   ]
  },
  {
   "cell_type": "code",
   "execution_count": 8,
   "id": "a490a4c8-16c9-40a2-b943-12b98faff79c",
   "metadata": {},
   "outputs": [
    {
     "name": "stderr",
     "output_type": "stream",
     "text": [
      "[*********************100%%**********************]  1 of 1 completed\n"
     ]
    }
   ],
   "source": [
    "# Step 2: Download Bitcoin data\n",
    "btc_data = yf.download('BTC-USD', start='2009-01-01', end=datetime.date.today())"
   ]
  },
  {
   "cell_type": "code",
   "execution_count": 10,
   "id": "68ddef8a-ccb9-4dc9-a5d7-7bb320283322",
   "metadata": {},
   "outputs": [
    {
     "name": "stdout",
     "output_type": "stream",
     "text": [
      "                  Open        High         Low       Close   Adj Close  \\\n",
      "Date                                                                     \n",
      "2014-09-17  465.864014  468.174011  452.421997  457.334015  457.334015   \n",
      "2014-09-18  456.859985  456.859985  413.104004  424.440002  424.440002   \n",
      "2014-09-19  424.102997  427.834991  384.532013  394.795990  394.795990   \n",
      "2014-09-20  394.673004  423.295990  389.882996  408.903992  408.903992   \n",
      "2014-09-21  408.084991  412.425995  393.181000  398.821014  398.821014   \n",
      "\n",
      "              Volume  \n",
      "Date                  \n",
      "2014-09-17  21056800  \n",
      "2014-09-18  34483200  \n",
      "2014-09-19  37919700  \n",
      "2014-09-20  36863600  \n",
      "2014-09-21  26580100  \n"
     ]
    }
   ],
   "source": [
    "# Display the first few rows of the data\n",
    "print(btc_data.head())"
   ]
  },
  {
   "cell_type": "code",
   "execution_count": 12,
   "id": "e2fca51d-97fc-4f79-ab06-d6f10101ff23",
   "metadata": {},
   "outputs": [],
   "source": [
    "# Step 3: Create lagged price features\n",
    "# Creating lagged features for the 'Close' price\n",
    "btc_data['BTC_Close_lag1'] = btc_data['Close'].shift(1)\n",
    "btc_data['BTC_Close_lag2'] = btc_data['Close'].shift(2)\n",
    "btc_data['BTC_Close_lag3'] = btc_data['Close'].shift(3)\n",
    "btc_data['BTC_Close_lag4'] = btc_data['Close'].shift(4)\n",
    "btc_data['BTC_Close_lag5'] = btc_data['Close'].shift(5)\n",
    "btc_data['BTC_Close_lag10'] = btc_data['Close'].shift(10)\n",
    "btc_data['BTC_Close_lag20'] = btc_data['Close'].shift(20)\n",
    "btc_data['BTC_Close_lag30'] = btc_data['Close'].shift(30)"
   ]
  },
  {
   "cell_type": "code",
   "execution_count": 14,
   "id": "4fe06b73-7c71-49f1-a704-6b959b53cc68",
   "metadata": {},
   "outputs": [],
   "source": [
    "# Step 4: Create Moving Average Features\n",
    "btc_data['BTC_MA5'] = btc_data['Close'].rolling(window=5).mean()\n",
    "btc_data['BTC_MA7'] = btc_data['Close'].rolling(window=7).mean()\n",
    "btc_data['BTC_MA10'] = btc_data['Close'].rolling(window=10).mean()\n",
    "btc_data['BTC_MA14'] = btc_data['Close'].rolling(window=14).mean()\n",
    "btc_data['BTC_MA20'] = btc_data['Close'].rolling(window=20).mean()\n",
    "btc_data['BTC_MA30'] = btc_data['Close'].rolling(window=30).mean()\n",
    "btc_data['BTC_MA50'] = btc_data['Close'].rolling(window=50).mean()\n",
    "btc_data['BTC_MA100'] = btc_data['Close'].rolling(window=100).mean()\n",
    "btc_data['BTC_MA200'] = btc_data['Close'].rolling(window=200).mean()"
   ]
  },
  {
   "cell_type": "code",
   "execution_count": 16,
   "id": "d8cff688-0ac3-432c-b6ce-108ffc47893c",
   "metadata": {},
   "outputs": [],
   "source": [
    "# Step 5: Rate of Change (ROC)\n",
    "btc_data['ROC_10'] = btc_data['Close'].pct_change(periods=10) * 100"
   ]
  },
  {
   "cell_type": "code",
   "execution_count": 18,
   "id": "d8c9225d-1f2b-4b1e-9c8b-4c295fef3907",
   "metadata": {},
   "outputs": [],
   "source": [
    "# Step 6: Relative Strength Index (RSI)\n",
    "delta = btc_data['Close'].diff()\n",
    "\n",
    "gain = delta.where(delta > 0, 0)\n",
    "loss = -delta.where(delta < 0, 0)\n",
    "\n",
    "avg_gain = gain.rolling(window=14, min_periods=1).mean()\n",
    "avg_loss = loss.rolling(window=14, min_periods=1).mean()\n",
    "\n",
    "rs = avg_gain / avg_loss\n",
    "\n",
    "btc_data['RSI'] = 100 - (100 / (1 + rs))"
   ]
  },
  {
   "cell_type": "code",
   "execution_count": 20,
   "id": "ccfd42d4-cb68-4e53-911c-52aeb064aab5",
   "metadata": {},
   "outputs": [
    {
     "name": "stdout",
     "output_type": "stream",
     "text": [
      "                  Open        High         Low       Close   Adj Close  \\\n",
      "Date                                                                     \n",
      "2014-09-17  465.864014  468.174011  452.421997  457.334015  457.334015   \n",
      "2014-09-18  456.859985  456.859985  413.104004  424.440002  424.440002   \n",
      "2014-09-19  424.102997  427.834991  384.532013  394.795990  394.795990   \n",
      "2014-09-20  394.673004  423.295990  389.882996  408.903992  408.903992   \n",
      "2014-09-21  408.084991  412.425995  393.181000  398.821014  398.821014   \n",
      "\n",
      "              Volume  BTC_Close_lag1  BTC_Close_lag2  BTC_Close_lag3  \\\n",
      "Date                                                                   \n",
      "2014-09-17  21056800             NaN             NaN             NaN   \n",
      "2014-09-18  34483200      457.334015             NaN             NaN   \n",
      "2014-09-19  37919700      424.440002      457.334015             NaN   \n",
      "2014-09-20  36863600      394.795990      424.440002      457.334015   \n",
      "2014-09-21  26580100      408.903992      394.795990      424.440002   \n",
      "\n",
      "            BTC_Close_lag4  ...  BTC_MA7  BTC_MA10  BTC_MA14  BTC_MA20  \\\n",
      "Date                        ...                                          \n",
      "2014-09-17             NaN  ...      NaN       NaN       NaN       NaN   \n",
      "2014-09-18             NaN  ...      NaN       NaN       NaN       NaN   \n",
      "2014-09-19             NaN  ...      NaN       NaN       NaN       NaN   \n",
      "2014-09-20             NaN  ...      NaN       NaN       NaN       NaN   \n",
      "2014-09-21      457.334015  ...      NaN       NaN       NaN       NaN   \n",
      "\n",
      "            BTC_MA30  BTC_MA50  BTC_MA100  BTC_MA200  ROC_10        RSI  \n",
      "Date                                                                     \n",
      "2014-09-17       NaN       NaN        NaN        NaN     NaN        NaN  \n",
      "2014-09-18       NaN       NaN        NaN        NaN     NaN   0.000000  \n",
      "2014-09-19       NaN       NaN        NaN        NaN     NaN   0.000000  \n",
      "2014-09-20       NaN       NaN        NaN        NaN     NaN  18.406697  \n",
      "2014-09-21       NaN       NaN        NaN        NaN     NaN  16.266763  \n",
      "\n",
      "[5 rows x 25 columns]\n"
     ]
    }
   ],
   "source": [
    "# Data Check - Display the first few rows of the data\n",
    "print(btc_data.head())"
   ]
  },
  {
   "cell_type": "code",
   "execution_count": 22,
   "id": "28da58bc-00d1-402a-bf5b-81260c155c65",
   "metadata": {},
   "outputs": [
    {
     "name": "stdout",
     "output_type": "stream",
     "text": [
      "                    Open          High           Low         Close  \\\n",
      "Date                                                                 \n",
      "2024-08-10  60881.230469  61464.511719  60287.566406  60945.812500   \n",
      "2024-08-11  60944.890625  61778.660156  58348.824219  58719.484375   \n",
      "2024-08-12  58719.394531  60680.332031  57688.898438  59354.515625   \n",
      "2024-08-13  59356.207031  61572.398438  58506.253906  60609.566406   \n",
      "2024-08-14  60611.050781  61687.757812  58472.875000  58737.269531   \n",
      "\n",
      "               Adj Close       Volume  BTC_Close_lag1  BTC_Close_lag2  \\\n",
      "Date                                                                    \n",
      "2024-08-10  60945.812500  15745822278    60880.113281    61710.136719   \n",
      "2024-08-11  58719.484375  22759754812    60945.812500    60880.113281   \n",
      "2024-08-12  59354.515625  37078637820    58719.484375    60945.812500   \n",
      "2024-08-13  60609.566406  30327698167    59354.515625    58719.484375   \n",
      "2024-08-14  58737.269531  29961696180    60609.566406    59354.515625   \n",
      "\n",
      "            BTC_Close_lag3  BTC_Close_lag4  ...       BTC_MA7      BTC_MA10  \\\n",
      "Date                                        ...                               \n",
      "2024-08-10    55027.460938    56034.316406  ...  58100.896205  59415.893359   \n",
      "2024-08-11    61710.136719    55027.460938  ...  58186.968750  58752.091797   \n",
      "2024-08-12    60880.113281    61710.136719  ...  58953.119978  58546.036719   \n",
      "2024-08-13    60945.812500    60880.113281  ...  59606.727121  58538.983984   \n",
      "2024-08-14    58719.484375    60945.812500  ...  60136.699777  58601.013281   \n",
      "\n",
      "                BTC_MA14      BTC_MA20      BTC_MA30      BTC_MA50  \\\n",
      "Date                                                                 \n",
      "2024-08-10  61432.498605  63022.133008  63281.678646  61938.341094   \n",
      "2024-08-11  60751.328404  62578.844727  63309.012630  61827.679219   \n",
      "2024-08-12  60218.085658  62250.186914  63313.098047  61751.153594   \n",
      "2024-08-13  59818.696429  62012.058594  63307.157161  61757.796641   \n",
      "2024-08-14  59398.554967  61660.060742  63102.727734  61696.449219   \n",
      "\n",
      "               BTC_MA100     BTC_MA200     ROC_10        RSI  \n",
      "Date                                                          \n",
      "2024-08-10  64239.621016  61988.867500  -5.684742  37.192978  \n",
      "2024-08-11  64197.917500  62082.079551 -10.156471  33.325292  \n",
      "2024-08-12  64152.547930  62179.183086  -3.355123  36.570333  \n",
      "2024-08-13  64118.332266  62273.146562  -0.116228  40.166488  \n",
      "2024-08-14  64074.085469  62356.232637   1.067318  39.760180  \n",
      "\n",
      "[5 rows x 25 columns]\n"
     ]
    }
   ],
   "source": [
    "# Data Check - Display the last few rows of the data\n",
    "print(btc_data.tail())"
   ]
  },
  {
   "cell_type": "code",
   "execution_count": 24,
   "id": "234047e9-509d-4ff1-86c4-f7dd422f694e",
   "metadata": {},
   "outputs": [],
   "source": [
    "# Step 7: Standard Deviation (Volatility)\n",
    "btc_data['Volatility'] = btc_data['Close'].rolling(window=20).std()"
   ]
  },
  {
   "cell_type": "code",
   "execution_count": 26,
   "id": "41997872-3afc-4119-9c0c-06a113581831",
   "metadata": {},
   "outputs": [],
   "source": [
    "# Step 8: Average True Range (ATR)\n",
    "btc_data['TR'] = np.maximum(btc_data['High'] - btc_data['Low'], \n",
    "                            np.abs(btc_data['High'] - btc_data['Close'].shift(1)),\n",
    "                            np.abs(btc_data['Low'] - btc_data['Close'].shift(1)))\n",
    "btc_data['ATR'] = btc_data['TR'].rolling(window=14).mean()"
   ]
  },
  {
   "cell_type": "code",
   "execution_count": 28,
   "id": "fad07cbc-158b-4af3-870a-3d954a1acedd",
   "metadata": {},
   "outputs": [],
   "source": [
    "# Step 9: Bollinger Bands\n",
    "btc_data['Bollinger_Mid'] = btc_data['Close'].rolling(window=20).mean()\n",
    "btc_data['Bollinger_Upper'] = btc_data['Bollinger_Mid'] + (btc_data['Close'].rolling(window=20).std() * 2)\n",
    "btc_data['Bollinger_Lower'] = btc_data['Bollinger_Mid'] - (btc_data['Close'].rolling(window=20).std() * 2)"
   ]
  },
  {
   "cell_type": "code",
   "execution_count": 30,
   "id": "0bda7af9-1300-4455-ac6b-c956f69b5d66",
   "metadata": {},
   "outputs": [],
   "source": [
    "# Step 10: Exponential Moving Average (EMA)\n",
    "btc_data['EMA12'] = btc_data['Close'].ewm(span=12, adjust=False).mean()\n",
    "btc_data['EMA26'] = btc_data['Close'].ewm(span=26, adjust=False).mean()"
   ]
  },
  {
   "cell_type": "code",
   "execution_count": 32,
   "id": "d2126f61-3875-4a1c-ba5d-21727c0c93f7",
   "metadata": {},
   "outputs": [],
   "source": [
    "# Step 11: On-Balance Volume (OBV)\n",
    "btc_data['Daily_Change'] = btc_data['Close'].diff()\n",
    "btc_data['OBV'] = np.where(btc_data['Daily_Change'] > 0, btc_data['Volume'], -btc_data['Volume']).cumsum()"
   ]
  },
  {
   "cell_type": "code",
   "execution_count": 34,
   "id": "8ba0bc4e-21dd-4f54-8aba-b98cfff78da2",
   "metadata": {},
   "outputs": [],
   "source": [
    "# Step 12: Stochastic Oscillator\n",
    "btc_data['14-High'] = btc_data['High'].rolling(window=14).max()\n",
    "btc_data['14-Low'] = btc_data['Low'].rolling(window=14).min()\n",
    "btc_data['Stochastic_Oscillator'] = 100 * ((btc_data['Close'] - btc_data['14-Low']) / (btc_data['14-High'] - btc_data['14-Low']))"
   ]
  },
  {
   "cell_type": "code",
   "execution_count": 36,
   "id": "63912314-b40d-448d-b493-3a8a0cc7ef31",
   "metadata": {},
   "outputs": [],
   "source": [
    "# Step 13: Moving Average Convergence Divergence (MACD)\n",
    "btc_data['MACD_Line'] = btc_data['EMA12'] - btc_data['EMA26']\n",
    "btc_data['Signal_Line'] = btc_data['MACD_Line'].ewm(span=9, adjust=False).mean()\n",
    "btc_data['MACD_Histogram'] = btc_data['MACD_Line'] - btc_data['Signal_Line']"
   ]
  },
  {
   "cell_type": "code",
   "execution_count": 38,
   "id": "1b9b4bd2-b5a5-44d1-959b-63fb6d25f5cb",
   "metadata": {},
   "outputs": [
    {
     "name": "stdout",
     "output_type": "stream",
     "text": [
      "                    Open          High           Low         Close  \\\n",
      "Date                                                                 \n",
      "2024-08-10  60881.230469  61464.511719  60287.566406  60945.812500   \n",
      "2024-08-11  60944.890625  61778.660156  58348.824219  58719.484375   \n",
      "2024-08-12  58719.394531  60680.332031  57688.898438  59354.515625   \n",
      "2024-08-13  59356.207031  61572.398438  58506.253906  60609.566406   \n",
      "2024-08-14  60611.050781  61687.757812  58472.875000  58737.269531   \n",
      "\n",
      "               Adj Close       Volume  BTC_Close_lag1  BTC_Close_lag2  \\\n",
      "Date                                                                    \n",
      "2024-08-10  60945.812500  15745822278    60880.113281    61710.136719   \n",
      "2024-08-11  58719.484375  22759754812    60945.812500    60880.113281   \n",
      "2024-08-12  59354.515625  37078637820    58719.484375    60945.812500   \n",
      "2024-08-13  60609.566406  30327698167    59354.515625    58719.484375   \n",
      "2024-08-14  58737.269531  29961696180    60609.566406    59354.515625   \n",
      "\n",
      "            BTC_Close_lag3  BTC_Close_lag4  ...         EMA12         EMA26  \\\n",
      "Date                                        ...                               \n",
      "2024-08-10    55027.460938    56034.316406  ...  60566.603512  61845.776411   \n",
      "2024-08-11    61710.136719    55027.460938  ...  60282.431337  61614.199223   \n",
      "2024-08-12    60880.113281    61710.136719  ...  60139.675074  61446.815253   \n",
      "2024-08-13    60945.812500    60880.113281  ...  60211.966048  61384.796820   \n",
      "2024-08-14    58719.484375    60945.812500  ...  59985.089661  61188.683687   \n",
      "\n",
      "            Daily_Change            OBV       14-High        14-Low  \\\n",
      "Date                                                                  \n",
      "2024-08-10     65.699219  1227730816049  69987.539062  49121.238281   \n",
      "2024-08-11  -2226.328125  1204971061237  69987.539062  49121.238281   \n",
      "2024-08-12    635.031250  1242049699057  66987.671875  49121.238281   \n",
      "2024-08-13   1255.050781  1272377397224  66810.210938  49121.238281   \n",
      "2024-08-14  -1872.296875  1242415701044  65593.242188  49121.238281   \n",
      "\n",
      "            Stochastic_Oscillator    MACD_Line  Signal_Line  MACD_Histogram  \n",
      "Date                                                                         \n",
      "2024-08-10              56.668282 -1279.172899  -880.718001     -398.454897  \n",
      "2024-08-11              45.998791 -1331.767886  -970.927978     -360.839908  \n",
      "2024-08-12              57.276553 -1307.140179 -1038.170419     -268.969761  \n",
      "2024-08-13              64.946271 -1172.830772 -1065.102489     -107.728283  \n",
      "2024-08-14              58.378029 -1203.594027 -1092.800797     -110.793230  \n",
      "\n",
      "[5 rows x 41 columns]\n"
     ]
    }
   ],
   "source": [
    "# Data Check - Display the last few rows of the data\n",
    "print(btc_data.tail())"
   ]
  },
  {
   "cell_type": "code",
   "execution_count": 40,
   "id": "02858df4-245e-44f9-8c05-c742c20600bd",
   "metadata": {},
   "outputs": [
    {
     "name": "stdout",
     "output_type": "stream",
     "text": [
      "<class 'pandas.core.frame.DataFrame'>\n",
      "DatetimeIndex: 3620 entries, 2014-09-17 to 2024-08-14\n",
      "Data columns (total 41 columns):\n",
      " #   Column                 Non-Null Count  Dtype  \n",
      "---  ------                 --------------  -----  \n",
      " 0   Open                   3620 non-null   float64\n",
      " 1   High                   3620 non-null   float64\n",
      " 2   Low                    3620 non-null   float64\n",
      " 3   Close                  3620 non-null   float64\n",
      " 4   Adj Close              3620 non-null   float64\n",
      " 5   Volume                 3620 non-null   int64  \n",
      " 6   BTC_Close_lag1         3619 non-null   float64\n",
      " 7   BTC_Close_lag2         3618 non-null   float64\n",
      " 8   BTC_Close_lag3         3617 non-null   float64\n",
      " 9   BTC_Close_lag4         3616 non-null   float64\n",
      " 10  BTC_Close_lag5         3615 non-null   float64\n",
      " 11  BTC_Close_lag10        3610 non-null   float64\n",
      " 12  BTC_Close_lag20        3600 non-null   float64\n",
      " 13  BTC_Close_lag30        3590 non-null   float64\n",
      " 14  BTC_MA5                3616 non-null   float64\n",
      " 15  BTC_MA7                3614 non-null   float64\n",
      " 16  BTC_MA10               3611 non-null   float64\n",
      " 17  BTC_MA14               3607 non-null   float64\n",
      " 18  BTC_MA20               3601 non-null   float64\n",
      " 19  BTC_MA30               3591 non-null   float64\n",
      " 20  BTC_MA50               3571 non-null   float64\n",
      " 21  BTC_MA100              3521 non-null   float64\n",
      " 22  BTC_MA200              3421 non-null   float64\n",
      " 23  ROC_10                 3610 non-null   float64\n",
      " 24  RSI                    3619 non-null   float64\n",
      " 25  Volatility             3601 non-null   float64\n",
      " 26  TR                     3619 non-null   float64\n",
      " 27  ATR                    3606 non-null   float64\n",
      " 28  Bollinger_Mid          3601 non-null   float64\n",
      " 29  Bollinger_Upper        3601 non-null   float64\n",
      " 30  Bollinger_Lower        3601 non-null   float64\n",
      " 31  EMA12                  3620 non-null   float64\n",
      " 32  EMA26                  3620 non-null   float64\n",
      " 33  Daily_Change           3619 non-null   float64\n",
      " 34  OBV                    3620 non-null   int64  \n",
      " 35  14-High                3607 non-null   float64\n",
      " 36  14-Low                 3607 non-null   float64\n",
      " 37  Stochastic_Oscillator  3607 non-null   float64\n",
      " 38  MACD_Line              3620 non-null   float64\n",
      " 39  Signal_Line            3620 non-null   float64\n",
      " 40  MACD_Histogram         3620 non-null   float64\n",
      "dtypes: float64(39), int64(2)\n",
      "memory usage: 1.2 MB\n",
      "None\n"
     ]
    }
   ],
   "source": [
    "# Display basic information about the dataset\n",
    "print(btc_data.info())"
   ]
  },
  {
   "cell_type": "code",
   "execution_count": 42,
   "id": "8176b39c-f94f-4513-8165-014d7e5a642a",
   "metadata": {},
   "outputs": [
    {
     "name": "stderr",
     "output_type": "stream",
     "text": [
      "C:\\Users\\yunus\\anaconda3\\Lib\\site-packages\\ta\\trend.py:1030: FutureWarning: Series.__setitem__ treating keys as positions is deprecated. In a future version, integer keys will always be treated as labels (consistent with DataFrame behavior). To set a value by position, use `ser.iloc[pos] = value`\n",
      "  self._psar[i] = high2\n"
     ]
    }
   ],
   "source": [
    "# Step 14: Parabolic SAR\n",
    "btc_data['PSAR'] = ta.trend.PSARIndicator(high=btc_data['High'], low=btc_data['Low'], close=btc_data['Close']).psar()"
   ]
  },
  {
   "cell_type": "code",
   "execution_count": 44,
   "id": "12f47f89-2eea-4f80-b532-b1717678e422",
   "metadata": {},
   "outputs": [],
   "source": [
    "# Step 15: Williams %R\n",
    "btc_data['Williams_%R'] = ta.momentum.WilliamsRIndicator(high=btc_data['High'], low=btc_data['Low'], close=btc_data['Close'], lbp=14).williams_r()"
   ]
  },
  {
   "cell_type": "code",
   "execution_count": 46,
   "id": "eaa2ee30-3dd5-4990-bb02-37365fea5c8e",
   "metadata": {},
   "outputs": [],
   "source": [
    "# Step 16: Commodity Channel Index (CCI)\n",
    "btc_data['CCI'] = ta.trend.CCIIndicator(high=btc_data['High'], low=btc_data['Low'], close=btc_data['Close'], window=20).cci()"
   ]
  },
  {
   "cell_type": "code",
   "execution_count": 48,
   "id": "82d6c12e-7ffb-433d-944d-6aeb2751f2bb",
   "metadata": {},
   "outputs": [],
   "source": [
    "# Step 17: Accumulation/Distribution Line (A/D Line)\n",
    "btc_data['AD_Line'] = ta.volume.AccDistIndexIndicator(high=btc_data['High'], low=btc_data['Low'], close=btc_data['Close'], volume=btc_data['Volume']).acc_dist_index()"
   ]
  },
  {
   "cell_type": "code",
   "execution_count": 50,
   "id": "c32468e7-aa92-467f-9cb9-26fb86ca33cd",
   "metadata": {},
   "outputs": [],
   "source": [
    "# Step 18: Chaikin Money Flow (CMF)\n",
    "btc_data['CMF'] = ta.volume.ChaikinMoneyFlowIndicator(high=btc_data['High'], low=btc_data['Low'], close=btc_data['Close'], volume=btc_data['Volume']).chaikin_money_flow()"
   ]
  },
  {
   "cell_type": "code",
   "execution_count": 52,
   "id": "cb116b21-ee59-4a6d-a286-259aa18e5213",
   "metadata": {},
   "outputs": [],
   "source": [
    "# Step 19: True Strength Index (TSI)\n",
    "btc_data['TSI'] = ta.momentum.TSIIndicator(close=btc_data['Close']).tsi()"
   ]
  },
  {
   "cell_type": "code",
   "execution_count": 54,
   "id": "c7edb50d-026c-4544-8343-17e50973c182",
   "metadata": {},
   "outputs": [],
   "source": [
    "# Step 20: Average Directional Index (ADX)\n",
    "btc_data['ADX'] = ta.trend.ADXIndicator(high=btc_data['High'], low=btc_data['Low'], close=btc_data['Close'], window=14).adx()"
   ]
  },
  {
   "cell_type": "code",
   "execution_count": 56,
   "id": "7bd6d05a-3c8a-4153-ac60-67cdd2917fd1",
   "metadata": {},
   "outputs": [],
   "source": [
    "# Step 21: Price Rate of Change (PROC)\n",
    "btc_data['PROC_20'] = btc_data['Close'].pct_change(periods=20) * 100"
   ]
  },
  {
   "cell_type": "code",
   "execution_count": 58,
   "id": "a23f49c2-18f0-44d1-b614-78aeecd556c6",
   "metadata": {},
   "outputs": [],
   "source": [
    "# Step 22: Z-Score\n",
    "btc_data['Z_Score'] = (btc_data['Close'] - btc_data['Close'].rolling(window=20).mean()) / btc_data['Close'].rolling(window=20).std()"
   ]
  },
  {
   "cell_type": "code",
   "execution_count": 60,
   "id": "685e0610-5967-4819-978f-2b2b3c4cb718",
   "metadata": {},
   "outputs": [],
   "source": [
    "# Step 23: Volume-Based Moving Averages\n",
    "btc_data['Volume_MA5'] = btc_data['Volume'].rolling(window=5).mean()\n",
    "btc_data['Volume_MA7'] = btc_data['Volume'].rolling(window=7).mean()\n",
    "btc_data['Volume_MA10'] = btc_data['Volume'].rolling(window=10).mean()\n",
    "btc_data['Volume_MA14'] = btc_data['Volume'].rolling(window=14).mean()\n",
    "btc_data['Volume_MA20'] = btc_data['Volume'].rolling(window=20).mean()\n",
    "btc_data['Volume_MA30'] = btc_data['Volume'].rolling(window=30).mean()\n",
    "btc_data['Liquidity_Ratio'] = btc_data['Volume'] / btc_data['Volume'].rolling(window=30).mean()"
   ]
  },
  {
   "cell_type": "code",
   "execution_count": 62,
   "id": "9f264c5b-df9a-4a91-90bb-97cd6513b139",
   "metadata": {},
   "outputs": [],
   "source": [
    "# Step 24: Log Returns and Cumulative Returns\n",
    "btc_data['Log_Returns'] = np.log(btc_data['Close'] / btc_data['Close'].shift(1))\n",
    "btc_data['Cumulative_Returns'] = (1 + btc_data['Log_Returns']).cumprod() - 1"
   ]
  },
  {
   "cell_type": "code",
   "execution_count": 64,
   "id": "d3ce1b2e-f918-4feb-a857-b1524a60c5ef",
   "metadata": {},
   "outputs": [],
   "source": [
    "# Step 25: Calculate Sharpe Ratio\n",
    "btc_data['Daily_Return'] = btc_data['Close'].pct_change()\n",
    "\n",
    "# Calculate rolling mean and standard deviation\n",
    "rolling_mean = btc_data['Daily_Return'].rolling(window=7).mean()\n",
    "rolling_std = btc_data['Daily_Return'].rolling(window=7).std()\n",
    "\n",
    "# Calculate rolling Sharpe Ratio (7 days rolling)\n",
    "btc_data['Rolling_Sharpe_Ratio'] = rolling_mean / rolling_std"
   ]
  },
  {
   "cell_type": "code",
   "execution_count": 66,
   "id": "2441431d-2d68-4696-87c0-bb8b66121cc9",
   "metadata": {},
   "outputs": [
    {
     "name": "stdout",
     "output_type": "stream",
     "text": [
      "<class 'pandas.core.frame.DataFrame'>\n",
      "DatetimeIndex: 3620 entries, 2014-09-17 to 2024-08-14\n",
      "Data columns (total 61 columns):\n",
      " #   Column                 Non-Null Count  Dtype  \n",
      "---  ------                 --------------  -----  \n",
      " 0   Open                   3620 non-null   float64\n",
      " 1   High                   3620 non-null   float64\n",
      " 2   Low                    3620 non-null   float64\n",
      " 3   Close                  3620 non-null   float64\n",
      " 4   Adj Close              3620 non-null   float64\n",
      " 5   Volume                 3620 non-null   int64  \n",
      " 6   BTC_Close_lag1         3619 non-null   float64\n",
      " 7   BTC_Close_lag2         3618 non-null   float64\n",
      " 8   BTC_Close_lag3         3617 non-null   float64\n",
      " 9   BTC_Close_lag4         3616 non-null   float64\n",
      " 10  BTC_Close_lag5         3615 non-null   float64\n",
      " 11  BTC_Close_lag10        3610 non-null   float64\n",
      " 12  BTC_Close_lag20        3600 non-null   float64\n",
      " 13  BTC_Close_lag30        3590 non-null   float64\n",
      " 14  BTC_MA5                3616 non-null   float64\n",
      " 15  BTC_MA7                3614 non-null   float64\n",
      " 16  BTC_MA10               3611 non-null   float64\n",
      " 17  BTC_MA14               3607 non-null   float64\n",
      " 18  BTC_MA20               3601 non-null   float64\n",
      " 19  BTC_MA30               3591 non-null   float64\n",
      " 20  BTC_MA50               3571 non-null   float64\n",
      " 21  BTC_MA100              3521 non-null   float64\n",
      " 22  BTC_MA200              3421 non-null   float64\n",
      " 23  ROC_10                 3610 non-null   float64\n",
      " 24  RSI                    3619 non-null   float64\n",
      " 25  Volatility             3601 non-null   float64\n",
      " 26  TR                     3619 non-null   float64\n",
      " 27  ATR                    3606 non-null   float64\n",
      " 28  Bollinger_Mid          3601 non-null   float64\n",
      " 29  Bollinger_Upper        3601 non-null   float64\n",
      " 30  Bollinger_Lower        3601 non-null   float64\n",
      " 31  EMA12                  3620 non-null   float64\n",
      " 32  EMA26                  3620 non-null   float64\n",
      " 33  Daily_Change           3619 non-null   float64\n",
      " 34  OBV                    3620 non-null   int64  \n",
      " 35  14-High                3607 non-null   float64\n",
      " 36  14-Low                 3607 non-null   float64\n",
      " 37  Stochastic_Oscillator  3607 non-null   float64\n",
      " 38  MACD_Line              3620 non-null   float64\n",
      " 39  Signal_Line            3620 non-null   float64\n",
      " 40  MACD_Histogram         3620 non-null   float64\n",
      " 41  PSAR                   3620 non-null   float64\n",
      " 42  Williams_%R            3607 non-null   float64\n",
      " 43  CCI                    3601 non-null   float64\n",
      " 44  AD_Line                3620 non-null   float64\n",
      " 45  CMF                    3601 non-null   float64\n",
      " 46  TSI                    3583 non-null   float64\n",
      " 47  ADX                    3620 non-null   float64\n",
      " 48  PROC_20                3600 non-null   float64\n",
      " 49  Z_Score                3601 non-null   float64\n",
      " 50  Volume_MA5             3616 non-null   float64\n",
      " 51  Volume_MA7             3614 non-null   float64\n",
      " 52  Volume_MA10            3611 non-null   float64\n",
      " 53  Volume_MA14            3607 non-null   float64\n",
      " 54  Volume_MA20            3601 non-null   float64\n",
      " 55  Volume_MA30            3591 non-null   float64\n",
      " 56  Liquidity_Ratio        3591 non-null   float64\n",
      " 57  Log_Returns            3619 non-null   float64\n",
      " 58  Cumulative_Returns     3619 non-null   float64\n",
      " 59  Daily_Return           3619 non-null   float64\n",
      " 60  Rolling_Sharpe_Ratio   3613 non-null   float64\n",
      "dtypes: float64(59), int64(2)\n",
      "memory usage: 1.7 MB\n",
      "None\n"
     ]
    }
   ],
   "source": [
    "# Display basic information about the dataset\n",
    "print(btc_data.info())"
   ]
  },
  {
   "cell_type": "code",
   "execution_count": 68,
   "id": "4abfb13f-5624-4ad6-9491-2cfa683ef449",
   "metadata": {},
   "outputs": [
    {
     "name": "stdout",
     "output_type": "stream",
     "text": [
      "                    Open          High           Low         Close  \\\n",
      "Date                                                                 \n",
      "2024-08-10  60881.230469  61464.511719  60287.566406  60945.812500   \n",
      "2024-08-11  60944.890625  61778.660156  58348.824219  58719.484375   \n",
      "2024-08-12  58719.394531  60680.332031  57688.898438  59354.515625   \n",
      "2024-08-13  59356.207031  61572.398438  58506.253906  60609.566406   \n",
      "2024-08-14  60611.050781  61687.757812  58472.875000  58737.269531   \n",
      "\n",
      "               Adj Close       Volume  BTC_Close_lag1  BTC_Close_lag2  \\\n",
      "Date                                                                    \n",
      "2024-08-10  60945.812500  15745822278    60880.113281    61710.136719   \n",
      "2024-08-11  58719.484375  22759754812    60945.812500    60880.113281   \n",
      "2024-08-12  59354.515625  37078637820    58719.484375    60945.812500   \n",
      "2024-08-13  60609.566406  30327698167    59354.515625    58719.484375   \n",
      "2024-08-14  58737.269531  29961696180    60609.566406    59354.515625   \n",
      "\n",
      "            BTC_Close_lag3  BTC_Close_lag4  ...    Volume_MA7   Volume_MA10  \\\n",
      "Date                                        ...                               \n",
      "2024-08-10    55027.460938    56034.316406  ...  4.659399e+10  4.419474e+10   \n",
      "2024-08-11    61710.136719    55027.460938  ...  4.530839e+10  4.237316e+10   \n",
      "2024-08-12    60880.113281    61710.136719  ...  3.503518e+10  4.177493e+10   \n",
      "2024-08-13    60945.812500    60880.113281  ...  3.232479e+10  4.163240e+10   \n",
      "2024-08-14    58719.484375    60945.812500  ...  3.065680e+10  4.145268e+10   \n",
      "\n",
      "             Volume_MA14   Volume_MA20   Volume_MA30  Liquidity_Ratio  \\\n",
      "Date                                                                    \n",
      "2024-08-10  4.024603e+10  3.863333e+10  3.532456e+10         0.445747   \n",
      "2024-08-11  4.058293e+10  3.763886e+10  3.522972e+10         0.646038   \n",
      "2024-08-12  4.031850e+10  3.771251e+10  3.589634e+10         1.032936   \n",
      "2024-08-13  4.024330e+10  3.785534e+10  3.616648e+10         0.838558   \n",
      "2024-08-14  4.014822e+10  3.743764e+10  3.589539e+10         0.834695   \n",
      "\n",
      "            Log_Returns  Cumulative_Returns  Daily_Return  \\\n",
      "Date                                                        \n",
      "2024-08-10     0.001079            9.678255      0.001079   \n",
      "2024-08-11    -0.037214            9.280879     -0.036530   \n",
      "2024-08-12     0.010757            9.391467      0.010815   \n",
      "2024-08-13     0.020925            9.608903      0.021145   \n",
      "2024-08-14    -0.031378            9.276014     -0.030891   \n",
      "\n",
      "            Rolling_Sharpe_Ratio  \n",
      "Date                              \n",
      "2024-08-10              0.035889  \n",
      "2024-08-11              0.049439  \n",
      "2024-08-12              0.280235  \n",
      "2024-08-13              0.238775  \n",
      "2024-08-14              0.197504  \n",
      "\n",
      "[5 rows x 61 columns]\n"
     ]
    }
   ],
   "source": [
    "# Data Check - Display the last few rows of the data\n",
    "print(btc_data.tail())"
   ]
  },
  {
   "cell_type": "code",
   "execution_count": 70,
   "id": "80b47c35-77ad-4dd2-958d-5aec4403a2af",
   "metadata": {},
   "outputs": [
    {
     "name": "stdout",
     "output_type": "stream",
     "text": [
      "0\n"
     ]
    }
   ],
   "source": [
    "# Check for duplicates\n",
    "print(btc_data.duplicated().sum())"
   ]
  },
  {
   "cell_type": "code",
   "execution_count": 72,
   "id": "f82ff3dd-7fe3-4f41-86ed-60e1d3ad5105",
   "metadata": {},
   "outputs": [
    {
     "name": "stdout",
     "output_type": "stream",
     "text": [
      "Constant columns: []\n"
     ]
    }
   ],
   "source": [
    "# Check for constant columns\n",
    "constant_columns = [col for col in btc_data.columns if btc_data[col].std() == 0]\n",
    "print(f'Constant columns: {constant_columns}')\n",
    "\n",
    "# Drop constant columns if any\n",
    "#btc_data = btc_data.drop(columns=constant_columns)"
   ]
  },
  {
   "cell_type": "code",
   "execution_count": 144,
   "id": "afe2aa44-5c10-4cce-bd7d-c51ca6163f30",
   "metadata": {},
   "outputs": [],
   "source": [
    "# Save the DataFrame to an Excel file\n",
    "btc_data.to_excel('btc_data_with_features.xlsx', index=True)"
   ]
  },
  {
   "cell_type": "code",
   "execution_count": null,
   "id": "eedf84be-a0bf-4894-8c91-e06a80377f99",
   "metadata": {},
   "outputs": [],
   "source": []
  }
 ],
 "metadata": {
  "kernelspec": {
   "display_name": "Python 3 (ipykernel)",
   "language": "python",
   "name": "python3"
  },
  "language_info": {
   "codemirror_mode": {
    "name": "ipython",
    "version": 3
   },
   "file_extension": ".py",
   "mimetype": "text/x-python",
   "name": "python",
   "nbconvert_exporter": "python",
   "pygments_lexer": "ipython3",
   "version": "3.12.4"
  }
 },
 "nbformat": 4,
 "nbformat_minor": 5
}
